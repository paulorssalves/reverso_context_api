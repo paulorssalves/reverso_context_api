{
    "cells": [
        {
            "cell_type": "code",
            "execution_count": null,
            "metadata": {},
            "outputs": [],
            "source": [
                "# TODO\n",
                "# habilitar paginação"
            ]
        },
        {
            "cell_type": "code",
            "execution_count": 79,
            "metadata": {},
            "outputs": [],
            "source": [
                "import re\n",
                "from reverso_api.session import ReversoSession\n",
                "from reverso_api.misc import BASE_URL\n",
                "\n",
                "source_lang = \"ru\"\n",
                "target_lang = \"en\"\n",
                "\n",
                "class Entry():\n",
                "    def __init__(self, text, source_lang=\"ru\", target_lang=\"en\", credentials=None, user_agent=None):\n",
                "        self._source_lang = source_lang\n",
                "        self._target_lang = target_lang\n",
                "\n",
                "        self.data = {\n",
                "            \"source_lang\": self._source_lang,\n",
                "            \"target_lang\": self._target_lang,\n",
                "            \"mode\": 0,\n",
                "            \"npage\": None,\n",
                "            \"source_text\": text,\n",
                "            \"target_text\": \"\"\n",
                "        }\n",
                "\n",
                "        self.raw = ReversoSession(credentials=credentials, user_agent=user_agent).json_request(\"POST\", BASE_URL + \"bst-query-service\", self.data)\n",
                "\n",
                "    def get_data(self):\n",
                "        return self.raw.json()\n",
                "\n",
                "    def get_translations(self):\n",
                "        data = self.get_data()\n",
                "        for entry in data[\"dictionary_entry_list\"]:\n",
                "            yield entry[\"term\"]\n",
                "\n",
                "    def get_samples(self):\n",
                "        for dict in self.get_data()['list']:\n",
                "            yield dict['s_text'], dict['t_text']\n",
                "        "
            ]
        },
        {
            "cell_type": "code",
            "execution_count": 80,
            "metadata": {},
            "outputs": [],
            "source": [
                "entry = Entry(\"плавать\")"
            ]
        },
        {
            "cell_type": "code",
            "execution_count": 82,
            "metadata": {},
            "outputs": [
                {
                    "data": {
                        "text/plain": [
                            "[('Я просто предпочитаю <em>плавать</em> где помельче.',\n",
                            "  'I just prefer to <em>swim</em> in the shallow end, Whip.'),\n",
                            " ('Прыжок в озеро - акт отчаяния - импала может только <em>плавать</em>.',\n",
                            "  'Leaping into the lake is an act of desperation - impala can barely <em>swim</em>.'),\n",
                            " ('Иностранцы будут заказывать еду.Пища будет <em>плавать</em> в воздухе.',\n",
                            "  'Aliens will order food. The food will <em>float</em> in the air.'),\n",
                            " ('Некоторые из вас будут <em>плавать</em>, пока не найдут постоянный дом.',\n",
                            "  'Some of you will be <em>floating</em> until they can find a permanent home.'),\n",
                            " ('Я хочу <em>плавать</em>, путешествовать с внуками вокруг света...',\n",
                            "  'I want to <em>sail</em>, travel around the world with my grandchildren...'),\n",
                            " ('Чхан, сегодня этот дядя будет учить тебя <em>плавать</em>.',\n",
                            "  'Chan, this ahjussi is here to teach you <em>swimming</em> today.'),\n",
                            " ('Меня ничего не волновало, пока можно <em>плавать</em>.',\n",
                            "  'Nothing ever bothered me as long as I had <em>swimming</em>.'),\n",
                            " ('Мама не разрешает мне ходить <em>плавать</em>.',\n",
                            "  \"My mom doesn't let me go <em>swimming</em>.\"),\n",
                            " ('Мы можем <em>плавать</em> в бассейне и устраивать пикники.',\n",
                            "  'We can <em>swim</em> in the pool and have picnic suppers.'),\n",
                            " ('Узнайте, где ближайший бассейн, чтобы я могла <em>плавать</em>.',\n",
                            "  \"I'd like to find out where the nearest pool is so I can <em>swim</em>.\"),\n",
                            " ('А ещё он не умел <em>плавать</em>.',\n",
                            "  \"The only one in the world that couldn't <em>swim</em>.\"),\n",
                            " ('Ну, <em>плавать</em> в темноте не пойду.',\n",
                            "  \"Well, I won't go <em>swimming</em> once it's dark.\"),\n",
                            " ('Если вытащишь меня отсюда, пойду хоть с акулами <em>плавать</em>.',\n",
                            "  \"If it'll get me a break from this, I'd go <em>swimming</em> with sharks.\"),\n",
                            " ('Я научу их <em>плавать</em> вот так.',\n",
                            "  \"I'm going to make them <em>swim</em> this way.\"),\n",
                            " ('Он любил <em>плавать</em>, дрифт и старые игры.',\n",
                            "  'He liked <em>swimming</em> and drift racing and old-school video games.'),\n",
                            " ('Мой сын Джонас всегда хотел научиться <em>плавать</em>.',\n",
                            "  'My son Jonas always wanted to learn to <em>swim</em>.'),\n",
                            " ('Те, кто не умеют <em>плавать</em> - держаться этого бассейна.',\n",
                            "  'Those of you who cannot <em>swim</em>, you stick to this pool.'),\n",
                            " ('Я всегда напиваюсь и не умею <em>плавать</em>.',\n",
                            "  \"I'm always drunk, and I can't <em>swim</em>.\"),\n",
                            " ('Чжун Пё совершенно не умеет <em>плавать</em>...',\n",
                            "  \"The one thing Jun Pyo can't do is <em>swimming</em>.\"),\n",
                            " ('Да, тогда лучше не <em>плавать</em>.',\n",
                            "  \"It's best you don't <em>swim</em> then.\")]"
                        ]
                    },
                    "execution_count": 82,
                    "metadata": {},
                    "output_type": "execute_result"
                }
            ],
            "source": [
                "list(entry.get_samples())"
            ]
        },
        {
            "cell_type": "code",
            "execution_count": 78,
            "metadata": {},
            "outputs": [
                {
                    "name": "stdout",
                    "output_type": "stream",
                    "text": [
                        "1. TEXT: Я просто предпочитаю <em>плавать</em> где помельче.\n",
                        "TRANSLATION: I just prefer to <em>swim</em> in the shallow end, Whip.\n",
                        "\n",
                        "2. TEXT: Прыжок в озеро - акт отчаяния - импала может только <em>плавать</em>.\n",
                        "TRANSLATION: Leaping into the lake is an act of desperation - impala can barely <em>swim</em>.\n",
                        "\n",
                        "3. TEXT: Иностранцы будут заказывать еду.Пища будет <em>плавать</em> в воздухе.\n",
                        "TRANSLATION: Aliens will order food. The food will <em>float</em> in the air.\n",
                        "\n",
                        "4. TEXT: Некоторые из вас будут <em>плавать</em>, пока не найдут постоянный дом.\n",
                        "TRANSLATION: Some of you will be <em>floating</em> until they can find a permanent home.\n",
                        "\n",
                        "5. TEXT: Я хочу <em>плавать</em>, путешествовать с внуками вокруг света...\n",
                        "TRANSLATION: I want to <em>sail</em>, travel around the world with my grandchildren...\n",
                        "\n",
                        "6. TEXT: Чхан, сегодня этот дядя будет учить тебя <em>плавать</em>.\n",
                        "TRANSLATION: Chan, this ahjussi is here to teach you <em>swimming</em> today.\n",
                        "\n",
                        "7. TEXT: Меня ничего не волновало, пока можно <em>плавать</em>.\n",
                        "TRANSLATION: Nothing ever bothered me as long as I had <em>swimming</em>.\n",
                        "\n",
                        "8. TEXT: Мама не разрешает мне ходить <em>плавать</em>.\n",
                        "TRANSLATION: My mom doesn't let me go <em>swimming</em>.\n",
                        "\n",
                        "9. TEXT: Мы можем <em>плавать</em> в бассейне и устраивать пикники.\n",
                        "TRANSLATION: We can <em>swim</em> in the pool and have picnic suppers.\n",
                        "\n",
                        "10. TEXT: Узнайте, где ближайший бассейн, чтобы я могла <em>плавать</em>.\n",
                        "TRANSLATION: I'd like to find out where the nearest pool is so I can <em>swim</em>.\n",
                        "\n",
                        "11. TEXT: А ещё он не умел <em>плавать</em>.\n",
                        "TRANSLATION: The only one in the world that couldn't <em>swim</em>.\n",
                        "\n",
                        "12. TEXT: Ну, <em>плавать</em> в темноте не пойду.\n",
                        "TRANSLATION: Well, I won't go <em>swimming</em> once it's dark.\n",
                        "\n",
                        "13. TEXT: Если вытащишь меня отсюда, пойду хоть с акулами <em>плавать</em>.\n",
                        "TRANSLATION: If it'll get me a break from this, I'd go <em>swimming</em> with sharks.\n",
                        "\n",
                        "14. TEXT: Я научу их <em>плавать</em> вот так.\n",
                        "TRANSLATION: I'm going to make them <em>swim</em> this way.\n",
                        "\n",
                        "15. TEXT: Он любил <em>плавать</em>, дрифт и старые игры.\n",
                        "TRANSLATION: He liked <em>swimming</em> and drift racing and old-school video games.\n",
                        "\n",
                        "16. TEXT: Мой сын Джонас всегда хотел научиться <em>плавать</em>.\n",
                        "TRANSLATION: My son Jonas always wanted to learn to <em>swim</em>.\n",
                        "\n",
                        "17. TEXT: Те, кто не умеют <em>плавать</em> - держаться этого бассейна.\n",
                        "TRANSLATION: Those of you who cannot <em>swim</em>, you stick to this pool.\n",
                        "\n",
                        "18. TEXT: Я всегда напиваюсь и не умею <em>плавать</em>.\n",
                        "TRANSLATION: I'm always drunk, and I can't <em>swim</em>.\n",
                        "\n",
                        "19. TEXT: Чжун Пё совершенно не умеет <em>плавать</em>...\n",
                        "TRANSLATION: The one thing Jun Pyo can't do is <em>swimming</em>.\n",
                        "\n",
                        "20. TEXT: Да, тогда лучше не <em>плавать</em>.\n",
                        "TRANSLATION: It's best you don't <em>swim</em> then.\n",
                        "\n"
                    ]
                }
            ],
            "source": [
                "n=0\n",
                "for dict in entry.get_data()['list']:\n",
                "    n +=1\n",
                "    print(\"%d. TEXT: %s\\nTRANSLATION: %s\\n\" % (n, dict['s_text'], dict['t_text']))"
            ]
        },
        {
            "cell_type": "code",
            "execution_count": null,
            "metadata": {},
            "outputs": [],
            "source": []
        }
    ],
    "metadata": {
        "interpreter": {
            "hash": "916dbcbb3f70747c44a77c7bcd40155683ae19c65e1c03b4aa3499c5328201f1"
        },
        "kernelspec": {
            "display_name": "Python 3.7.3 64-bit",
            "name": "python3"
        },
        "language_info": {
            "codemirror_mode": {
                "name": "ipython",
                "version": 3
            },
            "file_extension": ".py",
            "mimetype": "text/x-python",
            "name": "python",
            "nbconvert_exporter": "python",
            "pygments_lexer": "ipython3",
            "version": "3.7.3"
        },
        "orig_nbformat": 4
    },
    "nbformat": 4,
    "nbformat_minor": 2
}
